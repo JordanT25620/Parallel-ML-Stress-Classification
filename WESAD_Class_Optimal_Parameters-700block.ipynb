{
 "cells": [
  {
   "cell_type": "markdown",
   "id": "4ffb719b",
   "metadata": {},
   "source": [
    "## Import all libaries"
   ]
  },
  {
   "cell_type": "code",
   "execution_count": 1,
   "id": "69864547",
   "metadata": {},
   "outputs": [],
   "source": [
    "import numpy as np\n",
    "import pandas as pd\n",
    "import os\n",
    "import sys\n",
    "import random\n",
    "import warnings\n",
    "warnings.filterwarnings('ignore')\n",
    "from sklearn.model_selection import train_test_split\n",
    "from sklearn import svm, metrics,preprocessing\n",
    "#from sklearn import datasets\n",
    "from sklearn.neighbors import KNeighborsClassifier\n",
    "from sklearn.ensemble import RandomForestClassifier\n",
    "from sklearn.tree import DecisionTreeClassifier\n",
    "from sklearn.model_selection import train_test_split, GridSearchCV,cross_val_score\n",
    "from sklearn.metrics import accuracy_score,confusion_matrix,ConfusionMatrixDisplay,roc_curve, auc,classification_report\n",
    "from sklearn.model_selection import cross_val_predict\n",
    "from matplotlib import pyplot as plt\n",
    "from collections import Counter\n",
    "from scipy.stats import norm\n",
    "import seaborn as sns; sns.set(font_scale=1.2)\n",
    "%matplotlib inline\n",
    "import time\n",
    "import xgboost as xgb\n",
    "import lightgbm as lgb"
   ]
  },
  {
   "cell_type": "markdown",
   "id": "0e36bc25",
   "metadata": {},
   "source": [
    "### REading WESAD data"
   ]
  },
  {
   "cell_type": "code",
   "execution_count": 2,
   "id": "270be12e",
   "metadata": {},
   "outputs": [
    {
     "data": {
      "text/html": [
       "<div>\n",
       "<style scoped>\n",
       "    .dataframe tbody tr th:only-of-type {\n",
       "        vertical-align: middle;\n",
       "    }\n",
       "\n",
       "    .dataframe tbody tr th {\n",
       "        vertical-align: top;\n",
       "    }\n",
       "\n",
       "    .dataframe thead th {\n",
       "        text-align: right;\n",
       "    }\n",
       "</style>\n",
       "<table border=\"1\" class=\"dataframe\">\n",
       "  <thead>\n",
       "    <tr style=\"text-align: right;\">\n",
       "      <th></th>\n",
       "      <th>ECG_mean</th>\n",
       "      <th>ECG_std</th>\n",
       "      <th>ECG_min</th>\n",
       "      <th>ECG_max</th>\n",
       "      <th>ECG_kur</th>\n",
       "      <th>ECG_skew</th>\n",
       "      <th>EDA_mean</th>\n",
       "      <th>EDA_std</th>\n",
       "      <th>EDA_min</th>\n",
       "      <th>EDA_max</th>\n",
       "      <th>...</th>\n",
       "      <th>Resp_max</th>\n",
       "      <th>Resp_kur</th>\n",
       "      <th>Resp_skew</th>\n",
       "      <th>Temp_mean</th>\n",
       "      <th>Temp_std</th>\n",
       "      <th>Temp_min</th>\n",
       "      <th>Temp_max</th>\n",
       "      <th>Temp_kur</th>\n",
       "      <th>Temp_skew</th>\n",
       "      <th>label</th>\n",
       "    </tr>\n",
       "  </thead>\n",
       "  <tbody>\n",
       "    <tr>\n",
       "      <th>12093</th>\n",
       "      <td>2.404566</td>\n",
       "      <td>0.007982</td>\n",
       "      <td>2.389526</td>\n",
       "      <td>2.458191</td>\n",
       "      <td>2.458191</td>\n",
       "      <td>2.458191</td>\n",
       "      <td>33.926754</td>\n",
       "      <td>0.022778</td>\n",
       "      <td>33.862762</td>\n",
       "      <td>34.037689</td>\n",
       "      <td>...</td>\n",
       "      <td>0.029251</td>\n",
       "      <td>0.029251</td>\n",
       "      <td>0.029251</td>\n",
       "      <td>-3.047594</td>\n",
       "      <td>0.412165</td>\n",
       "      <td>-3.765869</td>\n",
       "      <td>-1.881409</td>\n",
       "      <td>-1.881409</td>\n",
       "      <td>-1.881409</td>\n",
       "      <td>0</td>\n",
       "    </tr>\n",
       "    <tr>\n",
       "      <th>15253</th>\n",
       "      <td>5.319847</td>\n",
       "      <td>0.006806</td>\n",
       "      <td>5.300522</td>\n",
       "      <td>5.374908</td>\n",
       "      <td>5.374908</td>\n",
       "      <td>5.374908</td>\n",
       "      <td>33.303738</td>\n",
       "      <td>0.017777</td>\n",
       "      <td>33.248535</td>\n",
       "      <td>33.390289</td>\n",
       "      <td>...</td>\n",
       "      <td>0.041656</td>\n",
       "      <td>0.041656</td>\n",
       "      <td>0.041656</td>\n",
       "      <td>-2.949335</td>\n",
       "      <td>0.257183</td>\n",
       "      <td>-3.617859</td>\n",
       "      <td>-2.212524</td>\n",
       "      <td>-2.212524</td>\n",
       "      <td>-2.212524</td>\n",
       "      <td>0</td>\n",
       "    </tr>\n",
       "    <tr>\n",
       "      <th>33538</th>\n",
       "      <td>3.839169</td>\n",
       "      <td>0.007844</td>\n",
       "      <td>3.805542</td>\n",
       "      <td>3.879166</td>\n",
       "      <td>3.879166</td>\n",
       "      <td>3.879166</td>\n",
       "      <td>35.085701</td>\n",
       "      <td>0.032082</td>\n",
       "      <td>34.992676</td>\n",
       "      <td>35.190491</td>\n",
       "      <td>...</td>\n",
       "      <td>0.044083</td>\n",
       "      <td>0.044083</td>\n",
       "      <td>0.044083</td>\n",
       "      <td>5.726406</td>\n",
       "      <td>1.179052</td>\n",
       "      <td>2.543640</td>\n",
       "      <td>7.127380</td>\n",
       "      <td>7.127380</td>\n",
       "      <td>7.127380</td>\n",
       "      <td>1</td>\n",
       "    </tr>\n",
       "    <tr>\n",
       "      <th>24990</th>\n",
       "      <td>4.024520</td>\n",
       "      <td>0.010274</td>\n",
       "      <td>3.981018</td>\n",
       "      <td>4.132843</td>\n",
       "      <td>4.132843</td>\n",
       "      <td>4.132843</td>\n",
       "      <td>34.634609</td>\n",
       "      <td>0.029546</td>\n",
       "      <td>34.552673</td>\n",
       "      <td>34.761536</td>\n",
       "      <td>...</td>\n",
       "      <td>0.029022</td>\n",
       "      <td>0.029022</td>\n",
       "      <td>0.029022</td>\n",
       "      <td>-1.770150</td>\n",
       "      <td>0.155509</td>\n",
       "      <td>-2.397156</td>\n",
       "      <td>-1.397705</td>\n",
       "      <td>-1.397705</td>\n",
       "      <td>-1.397705</td>\n",
       "      <td>0</td>\n",
       "    </tr>\n",
       "    <tr>\n",
       "      <th>30136</th>\n",
       "      <td>11.254581</td>\n",
       "      <td>0.010879</td>\n",
       "      <td>11.186981</td>\n",
       "      <td>11.316299</td>\n",
       "      <td>11.316299</td>\n",
       "      <td>11.316299</td>\n",
       "      <td>34.482311</td>\n",
       "      <td>0.026818</td>\n",
       "      <td>34.405579</td>\n",
       "      <td>34.601746</td>\n",
       "      <td>...</td>\n",
       "      <td>0.030121</td>\n",
       "      <td>0.030121</td>\n",
       "      <td>0.030121</td>\n",
       "      <td>1.912631</td>\n",
       "      <td>1.969689</td>\n",
       "      <td>-1.206970</td>\n",
       "      <td>5.104065</td>\n",
       "      <td>5.104065</td>\n",
       "      <td>5.104065</td>\n",
       "      <td>0</td>\n",
       "    </tr>\n",
       "    <tr>\n",
       "      <th>...</th>\n",
       "      <td>...</td>\n",
       "      <td>...</td>\n",
       "      <td>...</td>\n",
       "      <td>...</td>\n",
       "      <td>...</td>\n",
       "      <td>...</td>\n",
       "      <td>...</td>\n",
       "      <td>...</td>\n",
       "      <td>...</td>\n",
       "      <td>...</td>\n",
       "      <td>...</td>\n",
       "      <td>...</td>\n",
       "      <td>...</td>\n",
       "      <td>...</td>\n",
       "      <td>...</td>\n",
       "      <td>...</td>\n",
       "      <td>...</td>\n",
       "      <td>...</td>\n",
       "      <td>...</td>\n",
       "      <td>...</td>\n",
       "      <td>...</td>\n",
       "    </tr>\n",
       "    <tr>\n",
       "      <th>16850</th>\n",
       "      <td>7.260228</td>\n",
       "      <td>0.006452</td>\n",
       "      <td>7.240677</td>\n",
       "      <td>7.301712</td>\n",
       "      <td>7.301712</td>\n",
       "      <td>7.301712</td>\n",
       "      <td>34.428383</td>\n",
       "      <td>0.025490</td>\n",
       "      <td>34.347473</td>\n",
       "      <td>34.518951</td>\n",
       "      <td>...</td>\n",
       "      <td>0.019638</td>\n",
       "      <td>0.019638</td>\n",
       "      <td>0.019638</td>\n",
       "      <td>-1.237793</td>\n",
       "      <td>1.343410</td>\n",
       "      <td>-3.712463</td>\n",
       "      <td>1.681519</td>\n",
       "      <td>1.681519</td>\n",
       "      <td>1.681519</td>\n",
       "      <td>1</td>\n",
       "    </tr>\n",
       "    <tr>\n",
       "      <th>6265</th>\n",
       "      <td>2.386311</td>\n",
       "      <td>0.012563</td>\n",
       "      <td>2.366638</td>\n",
       "      <td>2.528000</td>\n",
       "      <td>2.528000</td>\n",
       "      <td>2.528000</td>\n",
       "      <td>33.932236</td>\n",
       "      <td>0.023062</td>\n",
       "      <td>33.865784</td>\n",
       "      <td>34.036163</td>\n",
       "      <td>...</td>\n",
       "      <td>0.025497</td>\n",
       "      <td>0.025497</td>\n",
       "      <td>0.025497</td>\n",
       "      <td>1.992788</td>\n",
       "      <td>0.525431</td>\n",
       "      <td>0.758362</td>\n",
       "      <td>2.629089</td>\n",
       "      <td>2.629089</td>\n",
       "      <td>2.629089</td>\n",
       "      <td>0</td>\n",
       "    </tr>\n",
       "    <tr>\n",
       "      <th>11284</th>\n",
       "      <td>3.317247</td>\n",
       "      <td>0.009020</td>\n",
       "      <td>3.246307</td>\n",
       "      <td>3.453827</td>\n",
       "      <td>3.453827</td>\n",
       "      <td>3.453827</td>\n",
       "      <td>34.128056</td>\n",
       "      <td>0.024947</td>\n",
       "      <td>34.057465</td>\n",
       "      <td>34.246582</td>\n",
       "      <td>...</td>\n",
       "      <td>0.033554</td>\n",
       "      <td>0.033554</td>\n",
       "      <td>0.033554</td>\n",
       "      <td>4.916999</td>\n",
       "      <td>0.929202</td>\n",
       "      <td>3.633118</td>\n",
       "      <td>8.308411</td>\n",
       "      <td>8.308411</td>\n",
       "      <td>8.308411</td>\n",
       "      <td>1</td>\n",
       "    </tr>\n",
       "    <tr>\n",
       "      <th>860</th>\n",
       "      <td>0.802228</td>\n",
       "      <td>0.012447</td>\n",
       "      <td>0.777435</td>\n",
       "      <td>0.864410</td>\n",
       "      <td>0.864410</td>\n",
       "      <td>0.864410</td>\n",
       "      <td>34.348511</td>\n",
       "      <td>0.025660</td>\n",
       "      <td>34.271027</td>\n",
       "      <td>34.399475</td>\n",
       "      <td>...</td>\n",
       "      <td>0.021561</td>\n",
       "      <td>0.021561</td>\n",
       "      <td>0.021561</td>\n",
       "      <td>-0.238151</td>\n",
       "      <td>1.511022</td>\n",
       "      <td>-2.479553</td>\n",
       "      <td>2.745056</td>\n",
       "      <td>2.745056</td>\n",
       "      <td>2.745056</td>\n",
       "      <td>0</td>\n",
       "    </tr>\n",
       "    <tr>\n",
       "      <th>15795</th>\n",
       "      <td>5.518548</td>\n",
       "      <td>0.006176</td>\n",
       "      <td>5.499649</td>\n",
       "      <td>5.561829</td>\n",
       "      <td>5.561829</td>\n",
       "      <td>5.561829</td>\n",
       "      <td>33.553410</td>\n",
       "      <td>0.019616</td>\n",
       "      <td>33.496033</td>\n",
       "      <td>33.671600</td>\n",
       "      <td>...</td>\n",
       "      <td>0.032547</td>\n",
       "      <td>0.032547</td>\n",
       "      <td>0.032547</td>\n",
       "      <td>0.337810</td>\n",
       "      <td>0.412942</td>\n",
       "      <td>-0.901794</td>\n",
       "      <td>1.220703</td>\n",
       "      <td>1.220703</td>\n",
       "      <td>1.220703</td>\n",
       "      <td>0</td>\n",
       "    </tr>\n",
       "  </tbody>\n",
       "</table>\n",
       "<p>36818 rows × 31 columns</p>\n",
       "</div>"
      ],
      "text/plain": [
       "        ECG_mean   ECG_std    ECG_min    ECG_max    ECG_kur   ECG_skew  \\\n",
       "12093   2.404566  0.007982   2.389526   2.458191   2.458191   2.458191   \n",
       "15253   5.319847  0.006806   5.300522   5.374908   5.374908   5.374908   \n",
       "33538   3.839169  0.007844   3.805542   3.879166   3.879166   3.879166   \n",
       "24990   4.024520  0.010274   3.981018   4.132843   4.132843   4.132843   \n",
       "30136  11.254581  0.010879  11.186981  11.316299  11.316299  11.316299   \n",
       "...          ...       ...        ...        ...        ...        ...   \n",
       "16850   7.260228  0.006452   7.240677   7.301712   7.301712   7.301712   \n",
       "6265    2.386311  0.012563   2.366638   2.528000   2.528000   2.528000   \n",
       "11284   3.317247  0.009020   3.246307   3.453827   3.453827   3.453827   \n",
       "860     0.802228  0.012447   0.777435   0.864410   0.864410   0.864410   \n",
       "15795   5.518548  0.006176   5.499649   5.561829   5.561829   5.561829   \n",
       "\n",
       "        EDA_mean   EDA_std    EDA_min    EDA_max  ...  Resp_max  Resp_kur  \\\n",
       "12093  33.926754  0.022778  33.862762  34.037689  ...  0.029251  0.029251   \n",
       "15253  33.303738  0.017777  33.248535  33.390289  ...  0.041656  0.041656   \n",
       "33538  35.085701  0.032082  34.992676  35.190491  ...  0.044083  0.044083   \n",
       "24990  34.634609  0.029546  34.552673  34.761536  ...  0.029022  0.029022   \n",
       "30136  34.482311  0.026818  34.405579  34.601746  ...  0.030121  0.030121   \n",
       "...          ...       ...        ...        ...  ...       ...       ...   \n",
       "16850  34.428383  0.025490  34.347473  34.518951  ...  0.019638  0.019638   \n",
       "6265   33.932236  0.023062  33.865784  34.036163  ...  0.025497  0.025497   \n",
       "11284  34.128056  0.024947  34.057465  34.246582  ...  0.033554  0.033554   \n",
       "860    34.348511  0.025660  34.271027  34.399475  ...  0.021561  0.021561   \n",
       "15795  33.553410  0.019616  33.496033  33.671600  ...  0.032547  0.032547   \n",
       "\n",
       "       Resp_skew  Temp_mean  Temp_std  Temp_min  Temp_max  Temp_kur  \\\n",
       "12093   0.029251  -3.047594  0.412165 -3.765869 -1.881409 -1.881409   \n",
       "15253   0.041656  -2.949335  0.257183 -3.617859 -2.212524 -2.212524   \n",
       "33538   0.044083   5.726406  1.179052  2.543640  7.127380  7.127380   \n",
       "24990   0.029022  -1.770150  0.155509 -2.397156 -1.397705 -1.397705   \n",
       "30136   0.030121   1.912631  1.969689 -1.206970  5.104065  5.104065   \n",
       "...          ...        ...       ...       ...       ...       ...   \n",
       "16850   0.019638  -1.237793  1.343410 -3.712463  1.681519  1.681519   \n",
       "6265    0.025497   1.992788  0.525431  0.758362  2.629089  2.629089   \n",
       "11284   0.033554   4.916999  0.929202  3.633118  8.308411  8.308411   \n",
       "860     0.021561  -0.238151  1.511022 -2.479553  2.745056  2.745056   \n",
       "15795   0.032547   0.337810  0.412942 -0.901794  1.220703  1.220703   \n",
       "\n",
       "       Temp_skew  label  \n",
       "12093  -1.881409      0  \n",
       "15253  -2.212524      0  \n",
       "33538   7.127380      1  \n",
       "24990  -1.397705      0  \n",
       "30136   5.104065      0  \n",
       "...          ...    ...  \n",
       "16850   1.681519      1  \n",
       "6265    2.629089      0  \n",
       "11284   8.308411      1  \n",
       "860     2.745056      0  \n",
       "15795   1.220703      0  \n",
       "\n",
       "[36818 rows x 31 columns]"
      ]
     },
     "execution_count": 2,
     "metadata": {},
     "output_type": "execute_result"
    }
   ],
   "source": [
    "preprocess_path=r'C:/Users/Sultan/OneDrive - Middle Tennessee State University/Courses/Fall23/CSCI_6330/Project/WESAD/preprocess_data/'\n",
    "## Reading the all subject data \n",
    "# dfall_read_seq= pd.read_pickle(\"./dfallfnir.pkl\")\n",
    "dfall_read_seq=pd.read_json(preprocess_path+'dfallwesad630.json', orient ='split', compression = 'infer')\n",
    "## Shuffle the data.\n",
    "dfall_read1=dfall_read_seq.sample(frac=1,random_state=42)\n",
    "# dfall_read=dfall_read_seq.copy()\n",
    "dfall_read1.rename(columns={'label': 'label3'}, inplace=True)\n",
    "dfall_read1\n",
    "def convert_slither(df):\n",
    "    return 1 if df['label3'] == 2 else 0\n",
    "dfall_read1['label'] = dfall_read1.apply(convert_slither, axis=1)\n",
    "dfall_read=dfall_read1.drop(columns=['label3'])\n",
    "dfall_read"
   ]
  },
  {
   "cell_type": "markdown",
   "id": "c00d3dda",
   "metadata": {},
   "source": [
    "### Checking any duplicate data/samples"
   ]
  },
  {
   "cell_type": "code",
   "execution_count": 3,
   "id": "85c748e0",
   "metadata": {},
   "outputs": [
    {
     "data": {
      "text/plain": [
       "0"
      ]
     },
     "execution_count": 3,
     "metadata": {},
     "output_type": "execute_result"
    }
   ],
   "source": [
    "dfall_read.duplicated().sum()"
   ]
  },
  {
   "cell_type": "markdown",
   "id": "9fa459d9",
   "metadata": {},
   "source": [
    "## Count the 0 and 3 class labels"
   ]
  },
  {
   "cell_type": "code",
   "execution_count": 4,
   "id": "cca61c0f",
   "metadata": {},
   "outputs": [
    {
     "data": {
      "text/plain": [
       "0    25751\n",
       "1    11067\n",
       "Name: label, dtype: int64"
      ]
     },
     "execution_count": 4,
     "metadata": {},
     "output_type": "execute_result"
    }
   ],
   "source": [
    "dfall_read.label.value_counts()"
   ]
  },
  {
   "cell_type": "code",
   "execution_count": 5,
   "id": "67a88221",
   "metadata": {},
   "outputs": [],
   "source": [
    "# dfall_read_seq.label.value_counts()"
   ]
  },
  {
   "cell_type": "markdown",
   "id": "1106fcb1",
   "metadata": {},
   "source": [
    "#####  Preprocessing (e.g., scaling, split traing and test data set)\n",
    "+ checking"
   ]
  },
  {
   "cell_type": "code",
   "execution_count": 6,
   "id": "1576e6cd",
   "metadata": {},
   "outputs": [
    {
     "name": "stdout",
     "output_type": "stream",
     "text": [
      "(array([0, 1], dtype=int64), array([20668,  8786], dtype=int64))\n",
      "(array([0, 1], dtype=int64), array([5083, 2281], dtype=int64))\n"
     ]
    }
   ],
   "source": [
    "## copy the initial read data to dfall\n",
    "dfall=dfall_read.copy()\n",
    "## Separtae the features for all exaples (0-back and 3-back)\n",
    "Xc=dfall.iloc[:,0:-1].values\n",
    "## Separte the class labels\n",
    "y=dfall.iloc[:,-1].values\n",
    "## Preprocsiing for normalizing all the features with 0 mean and 1 standard deviation\n",
    "X=preprocessing.scale(Xc)\n",
    "## Spliting the training and test data\n",
    "X_train, X_test, y_train, y_test = train_test_split(X,y, test_size=.20, random_state=42) \n",
    "## Checking the number of each class in the traing data\n",
    "print(np.unique(y_train,return_counts=True))\n",
    "## Checking the number of each class in the test data\n",
    "print(np.unique(y_test,return_counts=True))"
   ]
  },
  {
   "cell_type": "markdown",
   "id": "f52ed96a",
   "metadata": {},
   "source": [
    "## Customized function for pre-processing"
   ]
  },
  {
   "cell_type": "code",
   "execution_count": 7,
   "id": "0e7b262b",
   "metadata": {},
   "outputs": [],
   "source": [
    "def preprocess_scaling(df):\n",
    "    '''df:df is the dataframe where the feature start from first columns and last colunm is label\n",
    "    There are 4 returns : X_train, X_test, y_train, y_test'''\n",
    "    Xc=df.iloc[:,0:-1].values\n",
    "    y=df.iloc[:,-1].values\n",
    "    X=preprocessing.scale(Xc)\n",
    "    X_train, X_test, y_train, y_test = train_test_split(X,y, test_size=.20, random_state=42) \n",
    "    np.unique(y_test,return_counts=True)\n",
    "    return X_train, X_test, y_train, y_test"
   ]
  },
  {
   "cell_type": "markdown",
   "id": "d4c67540",
   "metadata": {},
   "source": [
    "### Csutomized function for cross validation "
   ]
  },
  {
   "cell_type": "code",
   "execution_count": 8,
   "id": "efdd117a",
   "metadata": {},
   "outputs": [],
   "source": [
    "def crossvalidate_classifier(model,X,y,cv):\n",
    "    '''model: classifier, \n",
    "    X: Feature vector,\n",
    "    y: class label\n",
    "    cv: how many cross validation\n",
    "    '''\n",
    "    print('The model name is:',model)\n",
    "#     model.fit(X, y)\n",
    "    ## Performaing cross validation\n",
    "    cv_scores = cross_val_score(model, X, y, cv=cv)\n",
    "    print(cv_scores)\n",
    "    ## Printing the results with two decimal floating points \n",
    "    print(\"%0.2f f-1 score with a standard deviation of %0.2f\" % (cv_scores.mean(), cv_scores.std()))\n",
    "    print('cv_scores mean:{}'.format(np.mean(cv_scores)))\n",
    "    ## Generating the cross validation prediction\n",
    "    y_pred = cross_val_predict(model, X, y, cv=cv)\n",
    "    ## making confusion matrix y: true/groundtruth; y_pred: model predicted \n",
    "    cm = confusion_matrix(y, y_pred)\n",
    "    print (cm)\n",
    "    ## Compute the accuracy\n",
    "    acc = accuracy_score(y, y_pred)\n",
    "    print(\"Accuracy Score:   %0.8f\" % acc)\n",
    "    ## AUC scores\n",
    "    fpr, tpr, thre_sholds = metrics.roc_curve(y,y_pred,pos_label=3)\n",
    "    auc=metrics.auc(fpr, tpr)\n",
    "    print(\"AUC Score:   %0.8f\" % auc)\n",
    "    ## Prepare the classification report\n",
    "    cls_rep=classification_report(y, y_pred)\n",
    "#     f1score = metrics.f1_score(y_pred, y_test)\n",
    "    print(cls_rep)\n",
    "    ## plot the cionfusion matrix\n",
    "    disp = ConfusionMatrixDisplay(confusion_matrix=cm)\n",
    "    disp.plot(cmap=plt.cm.Blues,values_format='g')\n",
    "    plt.grid(b=None)\n",
    "    plt.show()"
   ]
  },
  {
   "cell_type": "markdown",
   "id": "b1cb5d47",
   "metadata": {},
   "source": [
    "### Csutomized function for evaluating results on test data"
   ]
  },
  {
   "cell_type": "code",
   "execution_count": 9,
   "id": "736925b0",
   "metadata": {},
   "outputs": [],
   "source": [
    "def evaluate_classifier_test_data(model,X_train, X_test, y_train, y_test):\n",
    "    ''' This is the customized function for tarining the model by training data and evalute the performance on test data \n",
    "    model: classifier name,\n",
    "    X_train: Training features vector,\n",
    "    X_test: Test Feature vector,\n",
    "    y_train: Training class label,\n",
    "    y_test: Test class label (ground truth test data)\n",
    "    '''\n",
    "    print('The results on test data for:',model)\n",
    "    model.fit(X_train, y_train)\n",
    "    ## Predict\n",
    "    y_pred = model.predict(X_test)\n",
    "    #from sklearn.metrics import confusion_matrix, accuracy_score\n",
    "    cm = confusion_matrix(y_test, y_pred)\n",
    "    print (cm)\n",
    "    acc = accuracy_score(y_test, y_pred)\n",
    "    print(\"Accuracy Score:   %0.8f\" % acc)\n",
    "    ## AUC scores\n",
    "    fpr, tpr, thre_sholds = metrics.roc_curve(y_test,y_pred,pos_label=3)\n",
    "    auc=metrics.auc(fpr, tpr)\n",
    "    print(\"AUC Score:   %0.8f\" % auc)\n",
    "    ## Prepare the classification report\n",
    "    cls_rep=classification_report(y_test, y_pred)\n",
    "#     f1score = metrics.f1_score(y_pred, y_test)\n",
    "    print(cls_rep)\n",
    "    disp = ConfusionMatrixDisplay(confusion_matrix=cm)\n",
    "    disp.plot(cmap=plt.cm.Blues,values_format='g',ax=None)\n",
    "    plt.grid(False)  # To hide grid lines\n",
    "    plt.show()"
   ]
  },
  {
   "cell_type": "code",
   "execution_count": 10,
   "id": "85c33717",
   "metadata": {},
   "outputs": [
    {
     "data": {
      "text/html": [
       "<div>\n",
       "<style scoped>\n",
       "    .dataframe tbody tr th:only-of-type {\n",
       "        vertical-align: middle;\n",
       "    }\n",
       "\n",
       "    .dataframe tbody tr th {\n",
       "        vertical-align: top;\n",
       "    }\n",
       "\n",
       "    .dataframe thead th {\n",
       "        text-align: right;\n",
       "    }\n",
       "</style>\n",
       "<table border=\"1\" class=\"dataframe\">\n",
       "  <thead>\n",
       "    <tr style=\"text-align: right;\">\n",
       "      <th></th>\n",
       "      <th>ECG_mean</th>\n",
       "      <th>ECG_std</th>\n",
       "      <th>ECG_min</th>\n",
       "      <th>ECG_max</th>\n",
       "      <th>ECG_kur</th>\n",
       "      <th>ECG_skew</th>\n",
       "      <th>EDA_mean</th>\n",
       "      <th>EDA_std</th>\n",
       "      <th>EDA_min</th>\n",
       "      <th>EDA_max</th>\n",
       "      <th>...</th>\n",
       "      <th>Resp_max</th>\n",
       "      <th>Resp_kur</th>\n",
       "      <th>Resp_skew</th>\n",
       "      <th>Temp_mean</th>\n",
       "      <th>Temp_std</th>\n",
       "      <th>Temp_min</th>\n",
       "      <th>Temp_max</th>\n",
       "      <th>Temp_kur</th>\n",
       "      <th>Temp_skew</th>\n",
       "      <th>label</th>\n",
       "    </tr>\n",
       "  </thead>\n",
       "  <tbody>\n",
       "    <tr>\n",
       "      <th>12093</th>\n",
       "      <td>2.404566</td>\n",
       "      <td>0.007982</td>\n",
       "      <td>2.389526</td>\n",
       "      <td>2.458191</td>\n",
       "      <td>2.458191</td>\n",
       "      <td>2.458191</td>\n",
       "      <td>33.926754</td>\n",
       "      <td>0.022778</td>\n",
       "      <td>33.862762</td>\n",
       "      <td>34.037689</td>\n",
       "      <td>...</td>\n",
       "      <td>0.029251</td>\n",
       "      <td>0.029251</td>\n",
       "      <td>0.029251</td>\n",
       "      <td>-3.047594</td>\n",
       "      <td>0.412165</td>\n",
       "      <td>-3.765869</td>\n",
       "      <td>-1.881409</td>\n",
       "      <td>-1.881409</td>\n",
       "      <td>-1.881409</td>\n",
       "      <td>0</td>\n",
       "    </tr>\n",
       "    <tr>\n",
       "      <th>15253</th>\n",
       "      <td>5.319847</td>\n",
       "      <td>0.006806</td>\n",
       "      <td>5.300522</td>\n",
       "      <td>5.374908</td>\n",
       "      <td>5.374908</td>\n",
       "      <td>5.374908</td>\n",
       "      <td>33.303738</td>\n",
       "      <td>0.017777</td>\n",
       "      <td>33.248535</td>\n",
       "      <td>33.390289</td>\n",
       "      <td>...</td>\n",
       "      <td>0.041656</td>\n",
       "      <td>0.041656</td>\n",
       "      <td>0.041656</td>\n",
       "      <td>-2.949335</td>\n",
       "      <td>0.257183</td>\n",
       "      <td>-3.617859</td>\n",
       "      <td>-2.212524</td>\n",
       "      <td>-2.212524</td>\n",
       "      <td>-2.212524</td>\n",
       "      <td>0</td>\n",
       "    </tr>\n",
       "    <tr>\n",
       "      <th>33538</th>\n",
       "      <td>3.839169</td>\n",
       "      <td>0.007844</td>\n",
       "      <td>3.805542</td>\n",
       "      <td>3.879166</td>\n",
       "      <td>3.879166</td>\n",
       "      <td>3.879166</td>\n",
       "      <td>35.085701</td>\n",
       "      <td>0.032082</td>\n",
       "      <td>34.992676</td>\n",
       "      <td>35.190491</td>\n",
       "      <td>...</td>\n",
       "      <td>0.044083</td>\n",
       "      <td>0.044083</td>\n",
       "      <td>0.044083</td>\n",
       "      <td>5.726406</td>\n",
       "      <td>1.179052</td>\n",
       "      <td>2.543640</td>\n",
       "      <td>7.127380</td>\n",
       "      <td>7.127380</td>\n",
       "      <td>7.127380</td>\n",
       "      <td>1</td>\n",
       "    </tr>\n",
       "    <tr>\n",
       "      <th>24990</th>\n",
       "      <td>4.024520</td>\n",
       "      <td>0.010274</td>\n",
       "      <td>3.981018</td>\n",
       "      <td>4.132843</td>\n",
       "      <td>4.132843</td>\n",
       "      <td>4.132843</td>\n",
       "      <td>34.634609</td>\n",
       "      <td>0.029546</td>\n",
       "      <td>34.552673</td>\n",
       "      <td>34.761536</td>\n",
       "      <td>...</td>\n",
       "      <td>0.029022</td>\n",
       "      <td>0.029022</td>\n",
       "      <td>0.029022</td>\n",
       "      <td>-1.770150</td>\n",
       "      <td>0.155509</td>\n",
       "      <td>-2.397156</td>\n",
       "      <td>-1.397705</td>\n",
       "      <td>-1.397705</td>\n",
       "      <td>-1.397705</td>\n",
       "      <td>0</td>\n",
       "    </tr>\n",
       "    <tr>\n",
       "      <th>30136</th>\n",
       "      <td>11.254581</td>\n",
       "      <td>0.010879</td>\n",
       "      <td>11.186981</td>\n",
       "      <td>11.316299</td>\n",
       "      <td>11.316299</td>\n",
       "      <td>11.316299</td>\n",
       "      <td>34.482311</td>\n",
       "      <td>0.026818</td>\n",
       "      <td>34.405579</td>\n",
       "      <td>34.601746</td>\n",
       "      <td>...</td>\n",
       "      <td>0.030121</td>\n",
       "      <td>0.030121</td>\n",
       "      <td>0.030121</td>\n",
       "      <td>1.912631</td>\n",
       "      <td>1.969689</td>\n",
       "      <td>-1.206970</td>\n",
       "      <td>5.104065</td>\n",
       "      <td>5.104065</td>\n",
       "      <td>5.104065</td>\n",
       "      <td>0</td>\n",
       "    </tr>\n",
       "  </tbody>\n",
       "</table>\n",
       "<p>5 rows × 31 columns</p>\n",
       "</div>"
      ],
      "text/plain": [
       "        ECG_mean   ECG_std    ECG_min    ECG_max    ECG_kur   ECG_skew  \\\n",
       "12093   2.404566  0.007982   2.389526   2.458191   2.458191   2.458191   \n",
       "15253   5.319847  0.006806   5.300522   5.374908   5.374908   5.374908   \n",
       "33538   3.839169  0.007844   3.805542   3.879166   3.879166   3.879166   \n",
       "24990   4.024520  0.010274   3.981018   4.132843   4.132843   4.132843   \n",
       "30136  11.254581  0.010879  11.186981  11.316299  11.316299  11.316299   \n",
       "\n",
       "        EDA_mean   EDA_std    EDA_min    EDA_max  ...  Resp_max  Resp_kur  \\\n",
       "12093  33.926754  0.022778  33.862762  34.037689  ...  0.029251  0.029251   \n",
       "15253  33.303738  0.017777  33.248535  33.390289  ...  0.041656  0.041656   \n",
       "33538  35.085701  0.032082  34.992676  35.190491  ...  0.044083  0.044083   \n",
       "24990  34.634609  0.029546  34.552673  34.761536  ...  0.029022  0.029022   \n",
       "30136  34.482311  0.026818  34.405579  34.601746  ...  0.030121  0.030121   \n",
       "\n",
       "       Resp_skew  Temp_mean  Temp_std  Temp_min  Temp_max  Temp_kur  \\\n",
       "12093   0.029251  -3.047594  0.412165 -3.765869 -1.881409 -1.881409   \n",
       "15253   0.041656  -2.949335  0.257183 -3.617859 -2.212524 -2.212524   \n",
       "33538   0.044083   5.726406  1.179052  2.543640  7.127380  7.127380   \n",
       "24990   0.029022  -1.770150  0.155509 -2.397156 -1.397705 -1.397705   \n",
       "30136   0.030121   1.912631  1.969689 -1.206970  5.104065  5.104065   \n",
       "\n",
       "       Temp_skew  label  \n",
       "12093  -1.881409      0  \n",
       "15253  -2.212524      0  \n",
       "33538   7.127380      1  \n",
       "24990  -1.397705      0  \n",
       "30136   5.104065      0  \n",
       "\n",
       "[5 rows x 31 columns]"
      ]
     },
     "execution_count": 10,
     "metadata": {},
     "output_type": "execute_result"
    }
   ],
   "source": [
    "dfall.head(5)"
   ]
  },
  {
   "cell_type": "markdown",
   "id": "3a63ae74",
   "metadata": {},
   "source": [
    "## KNN Classifier"
   ]
  },
  {
   "cell_type": "code",
   "execution_count": 11,
   "id": "efd9a1f7",
   "metadata": {},
   "outputs": [
    {
     "name": "stdout",
     "output_type": "stream",
     "text": [
      "The results on test data for: KNeighborsClassifier(n_neighbors=2, weights='distance')\n",
      "[[4980  103]\n",
      " [ 144 2137]]\n",
      "Accuracy Score:   0.96645845\n",
      "AUC Score:   nan\n",
      "              precision    recall  f1-score   support\n",
      "\n",
      "           0       0.97      0.98      0.98      5083\n",
      "           1       0.95      0.94      0.95      2281\n",
      "\n",
      "    accuracy                           0.97      7364\n",
      "   macro avg       0.96      0.96      0.96      7364\n",
      "weighted avg       0.97      0.97      0.97      7364\n",
      "\n"
     ]
    },
    {
     "data": {
      "image/png": "[encoded data removed]",
      "text/plain": [
       "<Figure size 432x288 with 2 Axes>"
      ]
     },
     "metadata": {
      "needs_background": "light"
     },
     "output_type": "display_data"
    },
    {
     "name": "stdout",
     "output_type": "stream",
     "text": [
      "Time taken: 2.228724241256714\n"
     ]
    }
   ],
   "source": [
    "st=time.time()\n",
    "# knn_model = KNeighborsClassifier(metric='manhattan', n_neighbors=2, weights='distance')\n",
    "knn_model = KNeighborsClassifier(metric='minkowski', n_neighbors=2, weights='distance',p=2)\n",
    "X_train, X_test, y_train, y_test=preprocess_scaling(dfall)\n",
    "evaluate_classifier_test_data(knn_model,X_train, X_test, y_train, y_test)\n",
    "# evaluate_classifier_test_data(knn_model,X_train, X_test, y_train, y_test)\n",
    "print(\"Time taken:\",(time.time()-st))"
   ]
  },
  {
   "cell_type": "markdown",
   "id": "ee9e7ab5",
   "metadata": {},
   "source": [
    "### Decision Tree"
   ]
  },
  {
   "cell_type": "code",
   "execution_count": 12,
   "id": "59d3d9b2",
   "metadata": {},
   "outputs": [
    {
     "name": "stdout",
     "output_type": "stream",
     "text": [
      "The results on test data for: DecisionTreeClassifier(criterion='entropy', max_depth=50)\n",
      "[[5020   63]\n",
      " [  77 2204]]\n",
      "Accuracy Score:   0.98098859\n",
      "AUC Score:   nan\n",
      "              precision    recall  f1-score   support\n",
      "\n",
      "           0       0.98      0.99      0.99      5083\n",
      "           1       0.97      0.97      0.97      2281\n",
      "\n",
      "    accuracy                           0.98      7364\n",
      "   macro avg       0.98      0.98      0.98      7364\n",
      "weighted avg       0.98      0.98      0.98      7364\n",
      "\n"
     ]
    },
    {
     "data": {
      "image/png": "[encoded data removed]",
      "text/plain": [
       "<Figure size 432x288 with 2 Axes>"
      ]
     },
     "metadata": {
      "needs_background": "light"
     },
     "output_type": "display_data"
    },
    {
     "name": "stdout",
     "output_type": "stream",
     "text": [
      "Time taken: 3.0857434272766113\n"
     ]
    }
   ],
   "source": [
    "st=time.time()\n",
    "dtc_model = DecisionTreeClassifier(criterion='entropy',splitter='best',max_depth=50)\n",
    "X_train, X_test, y_train, y_test=preprocess_scaling(dfall)\n",
    "##Evaluate the model performace on test data\n",
    "evaluate_classifier_test_data(dtc_model,X_train, X_test, y_train, y_test)\n",
    "print(\"Time taken:\",(time.time()-st))"
   ]
  },
  {
   "cell_type": "markdown",
   "id": "95860bd1",
   "metadata": {},
   "source": [
    "### XGBoost "
   ]
  },
  {
   "cell_type": "code",
   "execution_count": 13,
   "id": "ccbe2380",
   "metadata": {},
   "outputs": [
    {
     "name": "stdout",
     "output_type": "stream",
     "text": [
      "The results on test data for: XGBClassifier(base_score=None, booster=None, colsample_bylevel=None,\n",
      "              colsample_bynode=None, colsample_bytree=0.7,\n",
      "              enable_categorical=False, eval_metric='logloss', gamma=0.2,\n",
      "              gpu_id=None, importance_type=None, interaction_constraints=None,\n",
      "              learning_rate=0.3, max_delta_step=None, max_depth=15,\n",
      "              min_child_weight=1, missing=nan, monotone_constraints=None,\n",
      "              n_estimators=100, n_jobs=None, num_parallel_tree=None,\n",
      "              predictor=None, random_state=42, reg_alpha=None, reg_lambda=None,\n",
      "              scale_pos_weight=None, subsample=None, tree_method=None,\n",
      "              validate_parameters=None, verbosity=None)\n",
      "[[5071   12]\n",
      " [  15 2266]]\n",
      "Accuracy Score:   0.99633351\n",
      "AUC Score:   nan\n",
      "              precision    recall  f1-score   support\n",
      "\n",
      "           0       1.00      1.00      1.00      5083\n",
      "           1       0.99      0.99      0.99      2281\n",
      "\n",
      "    accuracy                           1.00      7364\n",
      "   macro avg       1.00      1.00      1.00      7364\n",
      "weighted avg       1.00      1.00      1.00      7364\n",
      "\n"
     ]
    },
    {
     "data": {
      "image/png": "[encoded data removed]",
      "text/plain": [
       "<Figure size 432x288 with 2 Axes>"
      ]
     },
     "metadata": {
      "needs_background": "light"
     },
     "output_type": "display_data"
    },
    {
     "name": "stdout",
     "output_type": "stream",
     "text": [
      "Time taken: 11.332514524459839\n"
     ]
    }
   ],
   "source": [
    "st=time.time()\n",
    "xgb_clf = xgb.XGBClassifier(objective='binary:logistic', random_state=42,min_child_weight= 1, \n",
    "                            max_depth= 15, learning_rate= 0.3,\n",
    "                            gamma= 0.2, colsample_bytree= 0.7,eval_metric= 'logloss')\n",
    "# params= {'min_child_weight': 1, 'max_depth': 15, 'learning_rate': 0.3, 'gamma': 0.2, 'colsample_bytree': 0.7}\n",
    "##Evaluate the model performace on test data\n",
    "evaluate_classifier_test_data(xgb_clf,X_train, X_test, y_train, y_test)\n",
    "print(\"Time taken:\",(time.time()-st))"
   ]
  },
  {
   "cell_type": "markdown",
   "id": "62b8b8c3",
   "metadata": {},
   "source": [
    "## LightGBM"
   ]
  },
  {
   "cell_type": "code",
   "execution_count": 14,
   "id": "ad70c23f",
   "metadata": {
    "scrolled": false
   },
   "outputs": [
    {
     "name": "stdout",
     "output_type": "stream",
     "text": [
      "The results on test data for: LGBMClassifier(colsample_bytree=0.7, learning_rate=0.3, max_depth=100,\n",
      "               min_child_weight=0.5, n_estimators=200)\n",
      "[[5073   10]\n",
      " [  11 2270]]\n",
      "Accuracy Score:   0.99714829\n",
      "AUC Score:   nan\n",
      "              precision    recall  f1-score   support\n",
      "\n",
      "           0       1.00      1.00      1.00      5083\n",
      "           1       1.00      1.00      1.00      2281\n",
      "\n",
      "    accuracy                           1.00      7364\n",
      "   macro avg       1.00      1.00      1.00      7364\n",
      "weighted avg       1.00      1.00      1.00      7364\n",
      "\n"
     ]
    },
    {
     "data": {
      "image/png": "[encoded data removed]",
      "text/plain": [
       "<Figure size 432x288 with 2 Axes>"
      ]
     },
     "metadata": {
      "needs_background": "light"
     },
     "output_type": "display_data"
    },
    {
     "name": "stdout",
     "output_type": "stream",
     "text": [
      "Time taken: 2.093801975250244\n"
     ]
    }
   ],
   "source": [
    "st=time.time()\n",
    "## Classifier\n",
    "lgb_clf = lgb.LGBMClassifier(colsample_bytree=0.7, learning_rate=0.3, max_depth=100,min_child_weight=0.5, n_estimators=200)\n",
    "## Preprocessing spliting traing and test data\n",
    "X_train, X_test, y_train, y_test=preprocess_scaling(dfall)\n",
    "##Evaluate the model performace on test data\n",
    "evaluate_classifier_test_data(lgb_clf,X_train, X_test, y_train, y_test)\n",
    "print(\"Time taken:\",(time.time()-st))"
   ]
  },
  {
   "cell_type": "markdown",
   "id": "785c89ce",
   "metadata": {},
   "source": [
    "## Random Forest"
   ]
  },
  {
   "cell_type": "code",
   "execution_count": 15,
   "id": "43230012",
   "metadata": {},
   "outputs": [
    {
     "name": "stdout",
     "output_type": "stream",
     "text": [
      "The results on test data for: RandomForestClassifier(max_depth=40, max_features='log2', n_estimators=200)\n",
      "[[5065   18]\n",
      " [  17 2264]]\n",
      "Accuracy Score:   0.99524715\n",
      "AUC Score:   nan\n",
      "              precision    recall  f1-score   support\n",
      "\n",
      "           0       1.00      1.00      1.00      5083\n",
      "           1       0.99      0.99      0.99      2281\n",
      "\n",
      "    accuracy                           1.00      7364\n",
      "   macro avg       0.99      0.99      0.99      7364\n",
      "weighted avg       1.00      1.00      1.00      7364\n",
      "\n"
     ]
    },
    {
     "data": {
      "image/png": "[encoded data removed]",
      "text/plain": [
       "<Figure size 432x288 with 2 Axes>"
      ]
     },
     "metadata": {
      "needs_background": "light"
     },
     "output_type": "display_data"
    },
    {
     "name": "stdout",
     "output_type": "stream",
     "text": [
      "Time taken: 56.42406606674194\n"
     ]
    }
   ],
   "source": [
    "st=time.time()\n",
    "rf_model = RandomForestClassifier(max_depth=40, max_features='log2', n_estimators=200)\n",
    "X_train, X_test, y_train, y_test=preprocess_scaling(dfall)\n",
    "##Evaluate the model performace on test data\n",
    "evaluate_classifier_test_data(rf_model,X_train, X_test, y_train, y_test)\n",
    "print(\"Time taken:\",(time.time()-st))"
   ]
  },
  {
   "cell_type": "markdown",
   "id": "fb268b60",
   "metadata": {},
   "source": [
    "## SVM"
   ]
  },
  {
   "cell_type": "code",
   "execution_count": 16,
   "id": "55b8fa90",
   "metadata": {},
   "outputs": [
    {
     "name": "stdout",
     "output_type": "stream",
     "text": [
      "The results on test data for: SVC(C=10, gamma=0.1)\n",
      "[[5022   61]\n",
      " [  77 2204]]\n",
      "Accuracy Score:   0.98126018\n",
      "AUC Score:   nan\n",
      "              precision    recall  f1-score   support\n",
      "\n",
      "           0       0.98      0.99      0.99      5083\n",
      "           1       0.97      0.97      0.97      2281\n",
      "\n",
      "    accuracy                           0.98      7364\n",
      "   macro avg       0.98      0.98      0.98      7364\n",
      "weighted avg       0.98      0.98      0.98      7364\n",
      "\n"
     ]
    },
    {
     "data": {
      "image/png": "[encoded data removed]",
      "text/plain": [
       "<Figure size 432x288 with 2 Axes>"
      ]
     },
     "metadata": {
      "needs_background": "light"
     },
     "output_type": "display_data"
    },
    {
     "name": "stdout",
     "output_type": "stream",
     "text": [
      "Time taken: 59.22409462928772\n"
     ]
    }
   ],
   "source": [
    "st=time.time()\n",
    "svm_model = svm.SVC(C=10, kernel='rbf',degree=3,gamma=0.1)\n",
    "X_train, X_test, y_train, y_test=preprocess_scaling(dfall)\n",
    "##Evaluate the model performace on test data\n",
    "evaluate_classifier_test_data(svm_model,X_train, X_test, y_train, y_test)\n",
    "print(\"Time taken:\",(time.time()-st))"
   ]
  },
  {
   "cell_type": "code",
   "execution_count": null,
   "id": "cc87b578",
   "metadata": {},
   "outputs": [],
   "source": []
  },
  {
   "cell_type": "markdown",
   "id": "742143ad",
   "metadata": {},
   "source": [
    "### Summary results plot"
   ]
  },
  {
   "cell_type": "code",
   "execution_count": 17,
   "id": "8ef4acb9",
   "metadata": {},
   "outputs": [
    {
     "data": {
      "image/png": "[encoded data removed]",
      "text/plain": [
       "<Figure size 576x432 with 1 Axes>"
      ]
     },
     "metadata": {
      "needs_background": "light"
     },
     "output_type": "display_data"
    }
   ],
   "source": [
    "axis_font = {'fontname':'Arial', 'size':'20'}\n",
    "fig = plt.figure(figsize=(8,6))\n",
    "ax = fig.add_axes([0,0,1,1])\n",
    "# fig, ax = plt.subplots()\n",
    "Models = ['KNN','DT','XGBoost','LightGBM', 'RF', 'SVM']\n",
    "accuracy_full = [96.65,98.61,99.69,99.81,99.61,97.79 ]\n",
    "ax.bar(Models,accuracy_full)\n",
    "ax.set_ylabel('Accuracy',**axis_font)\n",
    "ax.set_xlabel('Classifier name',**axis_font)\n",
    "plt.bar(Models, accuracy_full, color=['blue', 'red', 'green','black','purple','gray'])\n",
    "plt.title(' 1000 ms time window',**axis_font)\n",
    "plt.xticks(**axis_font)\n",
    "plt.yticks(**axis_font)\n",
    "# plt.rcParams.update({'font.size':30})\n",
    "plt.tight_layout()\n",
    "plt.savefig('Fig_3_WholeBrain.eps')\n",
    "plt.show()"
   ]
  },
  {
   "cell_type": "code",
   "execution_count": 18,
   "id": "374294aa",
   "metadata": {},
   "outputs": [],
   "source": [
    "# 700/4*5"
   ]
  },
  {
   "cell_type": "code",
   "execution_count": null,
   "id": "5d26b3e4",
   "metadata": {},
   "outputs": [],
   "source": []
  },
  {
   "cell_type": "markdown",
   "id": "732c57b2",
   "metadata": {},
   "source": [
    "## ----------------------The End---------------------"
   ]
  }
 ],
 "metadata": {
  "kernelspec": {
   "display_name": "Python 3 (ipykernel)",
   "language": "python",
   "name": "python3"
  },
  "language_info": {
   "codemirror_mode": {
    "name": "ipython",
    "version": 3
   },
   "file_extension": ".py",
   "mimetype": "text/x-python",
   "name": "python",
   "nbconvert_exporter": "python",
   "pygments_lexer": "ipython3",
   "version": "3.9.7"
  }
 },
 "nbformat": 4,
 "nbformat_minor": 5
}
